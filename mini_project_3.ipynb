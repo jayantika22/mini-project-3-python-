{
  "nbformat": 4,
  "nbformat_minor": 0,
  "metadata": {
    "colab": {
      "provenance": [],
      "authorship_tag": "ABX9TyMvUd4cBNYKFV4Ez8gUo1s9",
      "include_colab_link": true
    },
    "kernelspec": {
      "name": "python3",
      "display_name": "Python 3"
    },
    "language_info": {
      "name": "python"
    }
  },
  "cells": [
    {
      "cell_type": "markdown",
      "metadata": {
        "id": "view-in-github",
        "colab_type": "text"
      },
      "source": [
        "<a href=\"https://colab.research.google.com/github/jayantika22/mini-project-3-python-/blob/main/mini_project_3.ipynb\" target=\"_parent\"><img src=\"https://colab.research.google.com/assets/colab-badge.svg\" alt=\"Open In Colab\"/></a>"
      ]
    },
    {
      "cell_type": "code",
      "execution_count": 9,
      "metadata": {
        "colab": {
          "base_uri": "https://localhost:8080/"
        },
        "id": "hN6g3hFjyB07",
        "outputId": "29527f9d-a10e-4388-be35-1bb50fdac5de"
      },
      "outputs": [
        {
          "output_type": "stream",
          "name": "stdout",
          "text": [
            "[-9, -6, -3, 7, 11]\n",
            "[-5, -4, -3, 3, 9]\n",
            "[-7, -4, -3, 3, 11]\n",
            "[-12, -3, -2, 6, 11]\n",
            "[-12, -4, 1, 6, 9]\n",
            "[-5, -3, -2, 1, 9]\n",
            "[-12, -5, 1, 7, 9]\n",
            "[-12, -7, 3, 7, 9]\n",
            "[-8, -3, 1, 3, 7]\n",
            "[-12, -7, 3, 7, 9]\n",
            "[-9, -8, 1, 7, 9]\n",
            "[-8, -7, -2, 6, 11]\n",
            "[-4, -3, -2, 2, 7]\n",
            "[-8, -4, -3, 6, 9]\n",
            "[-9, -2, 1, 3, 7]\n",
            "[-9, -5, 1, 6, 7]\n",
            "[-6, -5, 1, 3, 7]\n",
            "[-6, -4, 1, 3, 6]\n",
            "[-4, -3, -2, 3, 6]\n",
            "[-5, -4, 1, 2, 6]\n",
            "[-8, -5, 1, 3, 9]\n",
            "\n",
            "Total Sets:  5\n"
          ]
        },
        {
          "output_type": "stream",
          "name": "stderr",
          "text": [
            "<ipython-input-9-42e403e2403a>:14: DeprecationWarning: Sampling from a set deprecated\n",
            "since Python 3.9 and will be removed in a subsequent version.\n",
            "  result = r.sample(Set, 5)\n"
          ]
        }
      ],
      "source": [
        "#Problem statement 1\n",
        "#Find all the subsets from a set of numbers whose sum is zero.\n",
        "#Constraint: Subset size must be 5\n",
        "#Set={-12, -3, -6, 7, 2, -2, 6, 3, 9, -7, -5, -8, 1, 11, -9, -4}\n",
        "\n",
        "import random as r\n",
        "\n",
        "\n",
        "Set={-12, -3, -6, 7, 2, -2, 6, 3, 9, -7, -5, -8, 1, 11, -9, -4}\n",
        "Subsetsize = 5\n",
        "Iterations  = 1000\n",
        "\n",
        "for i in range(1000):\n",
        "    result = r.sample(Set, 5)\n",
        "    result.sort()\n",
        "\n",
        "\n",
        "    if sum(result) == 0:\n",
        "       print(result)\n",
        "\n",
        "print (\"\\nTotal Sets: \", len(result))\n"
      ]
    },
    {
      "cell_type": "code",
      "source": [
        "#Find all the subsets from a set of numbers whose sum is zero.\n",
        "\n",
        "#Constraint: Subset size must be 3 to 6 only\n",
        "#Set={-12, -3, -6, 7, 2, -2, 6, 3, 9, -7, -5, -8, 1, 11, -9, -4}\n",
        "\n",
        "import random as r\n",
        "\n",
        "\n",
        "Set={-12, -3, -6, 7, 2, -2, 6, 3, 9, -7, -5, -8, 1, 11, -9, -4}\n",
        "Subsetsize = 5\n",
        "Iterations  = 1000\n",
        "\n",
        "for i in range(1000):\n",
        "    j = r.randint(3,7)\n",
        "    result = r.sample(Set, j)\n",
        "    result.sort()\n",
        "\n",
        "\n",
        "    if sum(result) == 0:\n",
        "       print(result)\n",
        "\n",
        "print (\"\\nTotal Sets: \", len(result))\n"
      ],
      "metadata": {
        "colab": {
          "base_uri": "https://localhost:8080/"
        },
        "id": "cHuDmZx9zfi3",
        "outputId": "d9561b33-0008-4aac-8f6b-dad954aa1e6f"
      },
      "execution_count": 14,
      "outputs": [
        {
          "output_type": "stream",
          "name": "stdout",
          "text": [
            "[-5, -4, 3, 6]\n",
            "[-12, -4, -3, 1, 3, 6, 9]\n",
            "[-12, -6, -2, 9, 11]\n",
            "[-3, 1, 2]\n",
            "[-9, -5, -4, -2, 9, 11]\n",
            "[-7, -6, 1, 3, 9]\n",
            "[-6, -5, 11]\n",
            "[-9, 3, 6]\n",
            "[-12, -5, -2, 1, 7, 11]\n",
            "[-12, -7, -4, 2, 3, 7, 11]\n",
            "[-12, -4, 1, 6, 9]\n",
            "[-4, 1, 3]\n",
            "[-12, 1, 11]\n",
            "[-7, 1, 6]\n",
            "[-12, -8, 9, 11]\n",
            "[-12, -8, -5, 1, 6, 7, 11]\n",
            "[-8, -4, 3, 9]\n",
            "[-9, -6, -5, 2, 3, 6, 9]\n",
            "[-7, -6, -5, 2, 7, 9]\n",
            "[-7, -5, 1, 2, 9]\n",
            "[-7, -3, -2, 1, 2, 9]\n",
            "[-8, -6, -3, 1, 7, 9]\n",
            "[-9, -7, -2, 3, 6, 9]\n",
            "[-12, -7, -2, 1, 2, 7, 11]\n",
            "[-7, -6, -4, 2, 6, 9]\n",
            "[-12, -9, -3, 2, 6, 7, 9]\n",
            "[-12, -6, -4, -2, 6, 7, 11]\n",
            "[-12, -5, 6, 11]\n",
            "[-9, -6, 1, 2, 3, 9]\n",
            "\n",
            "Total Sets:  4\n"
          ]
        },
        {
          "output_type": "stream",
          "name": "stderr",
          "text": [
            "<ipython-input-14-0937e1b5444f>:15: DeprecationWarning: Sampling from a set deprecated\n",
            "since Python 3.9 and will be removed in a subsequent version.\n",
            "  result = r.sample(Set, j)\n"
          ]
        }
      ]
    }
  ]
}